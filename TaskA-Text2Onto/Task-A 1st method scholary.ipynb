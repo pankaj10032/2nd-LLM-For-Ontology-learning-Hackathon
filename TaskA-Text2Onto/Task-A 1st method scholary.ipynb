{
 "cells": [
  {
   "cell_type": "code",
   "execution_count": 1,
   "id": "86346d7c",
   "metadata": {},
   "outputs": [],
   "source": [
    "import json\n",
    "\n",
    "def load_jsonl(file_path):\n",
    "    \"\"\"\n",
    "    Loads data from a .jsonl file.\n",
    "\n",
    "    Args:\n",
    "        file_path (str): The path to the .jsonl file.\n",
    "\n",
    "    Returns:\n",
    "        list: A list of dictionaries, where each dictionary represents a JSON object from a line.\n",
    "    \"\"\"\n",
    "    data = []\n",
    "    with open(file_path, 'r', encoding='utf-8') as f:\n",
    "        for line in f:\n",
    "            try:\n",
    "                data.append(json.loads(line.strip()))\n",
    "            except json.JSONDecodeError as e:\n",
    "                print(f\"Error decoding JSON on line: {line.strip()} - {e}\")\n",
    "    return data"
   ]
  },
  {
   "cell_type": "code",
   "execution_count": 2,
   "id": "2fa0ea09",
   "metadata": {},
   "outputs": [
    {
     "data": {
      "text/plain": [
       "(40,\n",
       " {'id': '36_0',\n",
       "  'title': 'Temporal Qualifiers in Linguistics: Outdated, Obsolete, and Archaic Forms',\n",
       "  'text': 'In linguistics, certain forms are used to indicate that a word or expression is no longer in current use. These forms are classified as temporal qualifiers, which provide context about the timing or period when a particular linguistic expression was used. Specifically, the outdated form, obsolete form, and archaic form are all types of temporal qualifiers. The outdated form refers to a word or expression that was once commonly used but has since fallen out of favor. Similarly, the obsolete form is a word or expression that has completely gone out of use. The archaic form, on the other hand, is a word or expression that is no longer used in everyday language but may still be found in historical or literary contexts. All these forms serve as temporal qualifiers, helping to situate the language in a particular time or context.'})"
      ]
     },
     "execution_count": 2,
     "metadata": {},
     "output_type": "execute_result"
    }
   ],
   "source": [
    "training_data = load_jsonl(\"scholarly/train/documents.jsonl\")\n",
    "len(training_data), training_data[0]"
   ]
  },
  {
   "cell_type": "code",
   "execution_count": 3,
   "id": "9c60c993",
   "metadata": {},
   "outputs": [],
   "source": [
    "def load_txt_file_content(filepath):\n",
    "    \"\"\"\n",
    "    Loads the entire content of a text file into a single string.\n",
    "\n",
    "    Args:\n",
    "        filepath (str): The path to the text file.\n",
    "\n",
    "    Returns:\n",
    "        str: The content of the file, or None if an error occurs.\n",
    "    \"\"\"\n",
    "    try:\n",
    "        with open(filepath, 'r', encoding='utf-8') as file:\n",
    "            content = file.readlines()\n",
    "        return content\n",
    "    except FileNotFoundError:\n",
    "        print(f\"Error: The file '{filepath}' was not found.\")\n",
    "        return None\n",
    "    except Exception as e:\n",
    "        print(f\"An error occurred while reading the file: {e}\")\n",
    "        return None"
   ]
  },
  {
   "cell_type": "code",
   "execution_count": 4,
   "id": "6ae601ec",
   "metadata": {},
   "outputs": [],
   "source": [
    "terms_text_list = load_txt_file_content(\"scholarly/train/types.txt\")"
   ]
  },
  {
   "cell_type": "code",
   "execution_count": 5,
   "id": "b4ba666b",
   "metadata": {},
   "outputs": [],
   "source": [
    "# final_term_to_doc_mapping = {}\n",
    "# for term in terms_text_list:\n",
    "#     lst_1 = []\n",
    "#     for data_1 in training_data:\n",
    "#         if term in data_1['title'] or term in data_1['text']:\n",
    "#             lst_1.append(data_1['id'])\n",
    "#     final_term_to_doc_mapping[term]= lst_1"
   ]
  },
  {
   "cell_type": "code",
   "execution_count": 6,
   "id": "39a616b9",
   "metadata": {},
   "outputs": [],
   "source": [
    "test_data = load_jsonl('scholarly/test/text2onto_scholarly_test_documents.jsonl')"
   ]
  },
  {
   "cell_type": "code",
   "execution_count": 7,
   "id": "eb0435e2",
   "metadata": {},
   "outputs": [
    {
     "data": {
      "text/plain": [
       "[{'id': '35_0',\n",
       "  'title': 'Types of Modification in Linguistic Information',\n",
       "  'text': 'In the realm of linguistic information, modification types are crucial for understanding how words or phrases modify each other. There are several types of modification, including pre-modifiers, post-modifiers, and indifferent modifiers. A pre-modifier is a type of modification that occurs before the word it modifies. On the other hand, a post-modifier is a modification type that occurs after the word it modifies. Additionally, there is a modification type known as indifferent, which likely refers to a modifier whose position relative to the word it modifies is not fixed or is indifferent to the word order.'},\n",
       " {'id': '33_0',\n",
       "  'title': 'Types of MultiWordExpressions in Linguistics',\n",
       "  'text': 'In the realm of linguistic information, several types of phrases are classified as MultiWordExpressions. Specifically, preposition phrases, verb phrases, noun phrases, and adjective phrases all fall under this category. This classification indicates that each of these phrase types consists of more than one word and functions as a unit in language. Understanding these different types of MultiWordExpressions is crucial for grasping how language is structured and used.'},\n",
       " {'id': '22_0',\n",
       "  'title': 'Types of Clauses as Clausal Arguments in Linguistics',\n",
       "  'text': 'In the realm of linguistic information, various types of clauses function as clausal arguments. A clausal argument is a clause that functions as an argument to another clause or predicate. The different types of clauses that can serve this purpose include the infinitive clause, prepositional interrogative clause, possessive infinitive clause, interrogative clause, subjunctive clause, sentential clause, prepositional gerund clause, interrogative infinitive clause, declarative clause, and gerund clause. Each of these clauses has its unique characteristics but shares the commonality of being able to act as a clausal argument. For instance, infinitive clauses can function as arguments, as can interrogative clauses and gerund clauses, among others. Understanding these different types of clauses and their roles is essential for grasping the structure and complexity of linguistic expressions.'},\n",
       " {'id': '9_0',\n",
       "  'title': 'Linguistic Insights: The Polarity of \"Yes\" and \"No\"',\n",
       "  'text': 'In the realm of linguistic information, certain words are categorized based on their polarity. Interestingly, both \"yes\" and \"no\" are considered negatives. This classification might seem counterintuitive at first since \"yes\" is typically associated with affirmation and \"no\" with negation. However, in certain contexts, both can be used in ways that convey negative polarity. For instance, \"yes\" can be used to affirm a negative statement, and \"no\" is inherently negative. Understanding the nuances of how these words function in different sentences can provide insight into the complexities of linguistic structures and how they convey meaning.'},\n",
       " {'id': '19_0',\n",
       "  'title': 'Understanding Linguistic Frequencies',\n",
       "  'text': 'In the realm of linguistic information, the frequency of usage is a crucial aspect. Terms or phrases that are \"commonly used\" are categorized as a certain frequency, indicating their regular appearance in language. On the other hand, those that are \"infrequently used\" fall under a different frequency category, signifying their less common occurrence. Similarly, expressions that are \"rarely used\" are also classified as a specific frequency, highlighting their infrequent presence in everyday language. Understanding these frequencies is essential for grasping the dynamics of language usage.'},\n",
       " {'id': '25_0',\n",
       "  'title': 'Types of Affixes in Linguistics',\n",
       "  'text': 'In linguistics, an affix is a morpheme that is attached to a root or base word to form a new word. There are several types of affixes that serve this purpose. A prefix is a type of affix that is attached to the beginning of a word. Conversely, a suffix is attached to the end of a word. An infix is inserted within a word. A transfix is a type of affix that is inserted into a root word in a way that interweaves with the root\\'s consonants and vowels. A simulfix involves a change in the root that is concomitant with the affixation. Additionally, a zero morph is considered a type of affix where no phonetic change is made to the root word, yet it signifies a particular grammatical function. All these - prefixes, suffixes, infixes, transfixes, simulfixes, and zero morphs - are categorized under the broader linguistic term \"affix.\"'},\n",
       " {'id': '32_0',\n",
       "  'title': 'Understanding Gender Categories in Linguistics',\n",
       "  'text': 'In linguistics, gender is a crucial categorization that helps in understanding the structure and syntax of languages. There are several types of genders that are commonly recognized across various linguistic systems. These include masculine, feminine, neuter, common gender, and other gender. Each of these categories represents a way in which nouns, pronouns, and other parts of speech can be classified. Specifically, masculine and feminine are often associated with male and female characteristics, respectively. Neuter gender is typically used for nouns that are neither male nor female. Common gender is used in some languages to refer to nouns that can be either male or female, or to indicate a mix of genders. Other gender categories may exist in certain languages to further classify nouns and pronouns based on different criteria.'},\n",
       " {'id': '28_0',\n",
       "  'title': 'Classification of Persons in Linguistics',\n",
       "  'text': 'In the context of linguistic information, the first person, second person, and third person are all categorized as a person. This classification highlights the commonality among these entities, emphasizing that they all belong to the broader category of persons. Understanding this categorization is essential in linguistics as it helps in analyzing the roles and perspectives of individuals or entities in communication.'},\n",
       " {'id': '20_0',\n",
       "  'title': 'Categories of Aspect in Linguistics',\n",
       "  'text': 'In linguistics, the concept of aspect is crucial for understanding the temporal structure of actions or events described by verbs. Aspect refers to how an action or state relates to time, whether it is completed, ongoing, or just starting. There are several categories of aspect that help in describing these temporal nuances. The imperfective aspect is used to describe an action that is ongoing or not completed. On the other hand, the perfective aspect is utilized for actions that are completed. Additionally, there are other aspects such as the inchoative, which indicates the beginning of an action, and the cessative, which signifies the end of an action. Furthermore, the unaccomplished aspect is another category that highlights actions that have not been completed. These various aspects - imperfective, unaccomplished, perfective, inchoative, and cessative - all fall under the broader category of aspect, providing a more detailed understanding of the temporal characteristics of verbs.'},\n",
       " {'id': '17_0',\n",
       "  'title': 'Linguistic Term Elements: Understanding the Building Blocks of Language',\n",
       "  'text': \"In the realm of linguistics, several key concepts are categorized as term elements. These include affixes, which are further divided into prefixes, infixes, and suffixes, all of which are considered term elements. Additionally, other fundamental linguistic units such as syllables, words, and radicals are also classified as term elements. Moreover, elements like bases and morphological elements play crucial roles and are termed as term elements. It's also noteworthy that optional elements are included in this category. Understanding these various term elements is essential for grasping the structure and formation of language.\"}]"
      ]
     },
     "execution_count": 7,
     "metadata": {},
     "output_type": "execute_result"
    }
   ],
   "source": [
    "test_data"
   ]
  },
  {
   "cell_type": "code",
   "execution_count": 8,
   "id": "5d1d3931",
   "metadata": {},
   "outputs": [],
   "source": [
    "relevant_docs = []\n",
    "terms_rel = ['type', 'types', 'subtypes', 'subtype', 'Types', 'categorized', 'category','categorization ']\n",
    "for doc in test_data:\n",
    "    title= doc['title']\n",
    "    text= doc['text']\n",
    "    for term in terms_rel:\n",
    "        if term in title or term in text:\n",
    "            if doc not in relevant_docs:\n",
    "                relevant_docs.append(doc)\n"
   ]
  },
  {
   "cell_type": "code",
   "execution_count": 9,
   "id": "88e23f75",
   "metadata": {},
   "outputs": [
    {
     "data": {
      "text/plain": [
       "40"
      ]
     },
     "execution_count": 9,
     "metadata": {},
     "output_type": "execute_result"
    }
   ],
   "source": [
    "len(training_data)"
   ]
  },
  {
   "cell_type": "code",
   "execution_count": 10,
   "id": "b6811d63",
   "metadata": {},
   "outputs": [
    {
     "data": {
      "text/plain": [
       "10"
      ]
     },
     "execution_count": 10,
     "metadata": {},
     "output_type": "execute_result"
    }
   ],
   "source": [
    "len(relevant_docs)"
   ]
  },
  {
   "cell_type": "code",
   "execution_count": 11,
   "id": "80b06a77",
   "metadata": {},
   "outputs": [
    {
     "data": {
      "text/plain": [
       "10"
      ]
     },
     "execution_count": 11,
     "metadata": {},
     "output_type": "execute_result"
    }
   ],
   "source": [
    "len(test_data)"
   ]
  },
  {
   "cell_type": "code",
   "execution_count": null,
   "id": "37f3840d",
   "metadata": {},
   "outputs": [],
   "source": [
    "from google import genai\n",
    "model = \"gemini-2.5-pro\"\n",
    "client= genai.Client(api_key=\"\")"
   ]
  },
  {
   "cell_type": "code",
   "execution_count": 38,
   "id": "ec6ceac9",
   "metadata": {},
   "outputs": [],
   "source": [
    "from tqdm import tqdm\n",
    "final_ans = []"
   ]
  },
  {
   "cell_type": "code",
   "execution_count": 39,
   "id": "4dfde6b0",
   "metadata": {},
   "outputs": [
    {
     "name": "stderr",
     "output_type": "stream",
     "text": [
      "1it [00:34, 34.59s/it]"
     ]
    },
    {
     "name": "stdout",
     "output_type": "stream",
     "text": [
      "[\n",
      "    {\n",
      "        \"pre-modifier\": \"modification\"\n",
      "    },\n",
      "    {\n",
      "        \"post-modifier\": \"modification type\"\n",
      "    },\n",
      "    {\n",
      "        \"indifferent\": \"modification type\"\n",
      "    }\n",
      "]\n"
     ]
    },
    {
     "name": "stderr",
     "output_type": "stream",
     "text": [
      "6it [01:18, 10.85s/it]"
     ]
    },
    {
     "name": "stdout",
     "output_type": "stream",
     "text": [
      "[\n",
      "    {\n",
      "        \"prefix\": \"affix\"\n",
      "    },\n",
      "    {\n",
      "        \"suffix\": \"affix\"\n",
      "    },\n",
      "    {\n",
      "        \"infix\": \"affix\"\n",
      "    },\n",
      "    {\n",
      "        \"transfix\": \"affix\"\n",
      "    },\n",
      "    {\n",
      "        \"simulfix\": \"affix\"\n",
      "    },\n",
      "    {\n",
      "        \"zero morph\": \"affix\"\n",
      "    }\n",
      "]\n"
     ]
    },
    {
     "name": "stderr",
     "output_type": "stream",
     "text": [
      "10it [01:48, 10.84s/it]\n"
     ]
    }
   ],
   "source": [
    "import json\n",
    "\n",
    "# Assuming 'tqdm', 'client', 'model', and 'relevant_docs' are defined elsewhere.\n",
    "# The following is the modified code block.\n",
    "\n",
    "# This is the document you provided, which we will now use as a one-shot example.\n",
    "example_doc_for_prompt = {\n",
    "    'id': '36_0',\n",
    "    'title': 'Temporal Qualifiers in Linguistics: Outdated, Obsolete, and Archaic Forms',\n",
    "    'text': 'In linguistics, certain forms are used to indicate that a word or expression is no longer in current use. These forms are classified as temporal qualifiers, which provide context about the timing or period when a particular linguistic expression was used. Specifically, the outdated form, obsolete form, and archaic form are all types of temporal qualifiers. The outdated form refers to a word or expression that was once commonly used but has since fallen out of favor. Similarly, the obsolete form is a word or expression that has completely gone out of use. The archaic form, on the other hand, is a word or expression that is no longer used in everyday language but may still be found in historical or literary contexts. All these forms serve as temporal qualifiers, helping to situate the language in a particular time or context.'\n",
    "}\n",
    "\n",
    "# The expected output for the example document.\n",
    "example_output_for_prompt = [\n",
    "    {\"outdated form\": \"temporal qualifiers\"},\n",
    "    {\"obsolete form\": \"temporal qualifiers\"},\n",
    "    {\"archaic form\": \"temporal qualifiers\"}\n",
    "]\n",
    "\n",
    "\n",
    "# The loop from your code\n",
    "for i, doc in tqdm(enumerate(test_data)):\n",
    "    \n",
    "    # --- THIS IS THE MODIFIED PROMPT ---\n",
    "    prompt = f\"\"\"\n",
    "    You are an expert AI specializing in information science and ontology. Your task is to carefully read a document's title and text, identify specific conceptual terms, and classify them according to the hierarchical relationships provided within the text.\n",
    "\n",
    "    ## Domain Description: Scholarly Ontology\n",
    "    The domain is **Scholarly Ontology**, which involves the formal structuring of knowledge within academic and research fields. It defines concepts, terms, and the relationships between them to create a clear, unambiguous framework for data and information. This includes classifying entities like linguistic qualifiers, publication types, research methods, and data formats to ensure consistency and facilitate automated reasoning across scholarly works.\n",
    "\n",
    "    ## Instructions\n",
    "    1.  Read the provided title and text to understand the main concepts and their relationships.\n",
    "    2.  Identify specific, named examples or instances of a broader category mentioned in the document.\n",
    "    3.  For each identified term, find its corresponding parent category or type as explicitly defined in the document.\n",
    "    4.  Provide the output as a JSON list of dictionaries. Each dictionary must contain a single key-value pair, where the key is the specific term (child) and the value is its assigned parent type.\n",
    "    5.  Only extract terms and types explicitly mentioned in the text. Do not invent terms or categories.\n",
    "\n",
    "    ## Example\n",
    "    **Input Document:**\n",
    "    {json.dumps(example_doc_for_prompt, indent=4)}\n",
    "\n",
    "    **Correct Output:**\n",
    "    {json.dumps(example_output_for_prompt, indent=4)}\n",
    "\n",
    "    ## Your Task\n",
    "    Process the following document and provide the output in the specified JSON format:\n",
    "\n",
    "    **Input Document:**\n",
    "    {json.dumps(doc, indent=4)}\"\"\"\n",
    "\n",
    "    generation_config = {\"response_mime_type\": \"application/json\"}\n",
    "\n",
    "    response = client.models.generate_content(\n",
    "            contents=prompt,\n",
    "            config=generation_config,\n",
    "            model=model\n",
    "        )\n",
    "    final_ans.append(response.text)\n",
    "    if i % 5 == 0:\n",
    "        print(response.text)"
   ]
  },
  {
   "cell_type": "code",
   "execution_count": 40,
   "id": "b670da1b",
   "metadata": {},
   "outputs": [
    {
     "data": {
      "text/plain": [
       "['[\\n    {\\n        \"pre-modifier\": \"modification\"\\n    },\\n    {\\n        \"post-modifier\": \"modification type\"\\n    },\\n    {\\n        \"indifferent\": \"modification type\"\\n    }\\n]',\n",
       " '[\\n    {\\n        \"preposition phrases\": \"MultiWordExpressions\"\\n    },\\n    {\\n        \"verb phrases\": \"MultiWordExpressions\"\\n    },\\n    {\\n        \"noun phrases\": \"MultiWordExpressions\"\\n    },\\n    {\\n        \"adjective phrases\": \"MultiWordExpressions\"\\n    }\\n]',\n",
       " '[\\n    {\\n        \"infinitive clause\": \"clausal argument\"\\n    },\\n    {\\n        \"prepositional interrogative clause\": \"clausal argument\"\\n    },\\n    {\\n        \"possessive infinitive clause\": \"clausal argument\"\\n    },\\n    {\\n        \"interrogative clause\": \"clausal argument\"\\n    },\\n    {\\n        \"subjunctive clause\": \"clausal argument\"\\n    },\\n    {\\n        \"sentential clause\": \"clausal argument\"\\n    },\\n    {\\n        \"prepositional gerund clause\": \"clausal argument\"\\n    },\\n    {\\n        \"interrogative infinitive clause\": \"clausal argument\"\\n    },\\n    {\\n        \"declarative clause\": \"clausal argument\"\\n    },\\n    {\\n        \"gerund clause\": \"clausal argument\"\\n    }\\n]',\n",
       " '[\\n    {\\n        \"yes\": \"negatives\"\\n    },\\n    {\\n        \"no\": \"negatives\"\\n    }\\n]',\n",
       " '[\\n    {\\n        \"commonly used\": \"frequency\"\\n    },\\n    {\\n        \"infrequently used\": \"frequency\"\\n    },\\n    {\\n        \"rarely used\": \"frequency\"\\n    }\\n]',\n",
       " '[\\n    {\\n        \"prefix\": \"affix\"\\n    },\\n    {\\n        \"suffix\": \"affix\"\\n    },\\n    {\\n        \"infix\": \"affix\"\\n    },\\n    {\\n        \"transfix\": \"affix\"\\n    },\\n    {\\n        \"simulfix\": \"affix\"\\n    },\\n    {\\n        \"zero morph\": \"affix\"\\n    }\\n]',\n",
       " '[\\n    {\\n        \"masculine\": \"types of genders\"\\n    },\\n    {\\n        \"feminine\": \"types of genders\"\\n    },\\n    {\\n        \"neuter\": \"types of genders\"\\n    },\\n    {\\n        \"common gender\": \"types of genders\"\\n    },\\n    {\\n        \"other gender\": \"types of genders\"\\n    }\\n]',\n",
       " '[\\n    {\\n        \"first person\": \"person\"\\n    },\\n    {\\n        \"second person\": \"person\"\\n    },\\n    {\\n        \"third person\": \"person\"\\n    }\\n]',\n",
       " '[\\n    {\\n        \"imperfective aspect\": \"aspect\"\\n    },\\n    {\\n        \"perfective aspect\": \"aspect\"\\n    },\\n    {\\n        \"inchoative\": \"aspect\"\\n    },\\n    {\\n        \"cessative\": \"aspect\"\\n    },\\n    {\\n        \"unaccomplished aspect\": \"aspect\"\\n    }\\n]',\n",
       " '[\\n    {\\n        \"affixes\": \"term elements\"\\n    },\\n    {\\n        \"prefixes\": \"term elements\"\\n    },\\n    {\\n        \"infixes\": \"term elements\"\\n    },\\n    {\\n        \"suffixes\": \"term elements\"\\n    },\\n    {\\n        \"syllables\": \"term elements\"\\n    },\\n    {\\n        \"words\": \"term elements\"\\n    },\\n    {\\n        \"radicals\": \"term elements\"\\n    },\\n    {\\n        \"bases\": \"term elements\"\\n    },\\n    {\\n        \"morphological elements\": \"term elements\"\\n    },\\n    {\\n        \"optional elements\": \"term elements\"\\n    }\\n]']"
      ]
     },
     "execution_count": 40,
     "metadata": {},
     "output_type": "execute_result"
    }
   ],
   "source": [
    "final_ans"
   ]
  },
  {
   "cell_type": "code",
   "execution_count": null,
   "id": "395f95b4",
   "metadata": {},
   "outputs": [
    {
     "name": "stderr",
     "output_type": "stream",
     "text": [
      "1it [00:04,  4.72s/it]"
     ]
    },
    {
     "name": "stdout",
     "output_type": "stream",
     "text": [
      "[\n",
      "  {\n",
      "    \"Atmospheric wind speed\": \"speed\"\n",
      "  },\n",
      "  {\n",
      "    \"speed of a water current\": \"speed\"\n",
      "  },\n",
      "  {\n",
      "    \"speed at which water infiltrates the soil\": \"speed\"\n",
      "  },\n",
      "  {\n",
      "    \"speed at which soil drains water\": \"speed\"\n",
      "  },\n",
      "  {\n",
      "    \"increased speed\": \"speed\"\n",
      "  },\n",
      "  {\n",
      "    \"decreased speed\": \"speed\"\n",
      "  },\n",
      "  {\n",
      "    \"sound speed\": \"speed\"\n",
      "  },\n",
      "  {\n",
      "    \"normal speed\": \"speed\"\n",
      "  }\n",
      "]\n"
     ]
    },
    {
     "name": "stderr",
     "output_type": "stream",
     "text": [
      "6it [00:22,  4.11s/it]"
     ]
    },
    {
     "name": "stdout",
     "output_type": "stream",
     "text": [
      "[\n",
      "  {\n",
      "    \"asterids\": \"Pentapetalae\"\n",
      "  }\n",
      "]\n"
     ]
    },
    {
     "name": "stderr",
     "output_type": "stream",
     "text": [
      "11it [00:34,  2.62s/it]"
     ]
    },
    {
     "name": "stdout",
     "output_type": "stream",
     "text": [
      "[\n",
      "  {\n",
      "    \"Arecales\": \"commelinids\"\n",
      "  },\n",
      "  {\n",
      "    \"commelinids\": \"monocotyledons\"\n",
      "  }\n",
      "]\n"
     ]
    },
    {
     "name": "stderr",
     "output_type": "stream",
     "text": [
      "15it [00:40,  2.73s/it]\n"
     ]
    }
   ],
   "source": [
    "# for i, doc in tqdm(enumerate(relevant_docs[285:])):\n",
    "        \n",
    "#         prompt=f\"\"\"\n",
    "#         You are an expert AI specializing in ecology and information extraction. Your task is to carefully read an article's title and text, identify specific ecological terms, and classify them according to the categories provided within the text.\n",
    "\n",
    "#         ## Domain Description: Ecology\n",
    "#         Ecology is the scientific study of the intricate relationships between living organisms and their physical environment. It examines how organisms interact with each other and with abiotic factors like climate, soil, and water. The domain covers vast topics including biodiversity, population dynamics, ecosystem functioning, and nutrient cycles. This field is critical for understanding and addressing major environmental challenges, from conservation to the impacts of climate change.\n",
    "\n",
    "#         ## Instructions\n",
    "#         1. Read the provided title and text to understand the main concepts and their relationships.\n",
    "#         2. Identify specific, named examples or instances of a broader category mentioned in the text.\n",
    "#         3. For each identified term, find its corresponding parent category or type as defined in the article.\n",
    "#         4. Provide the output as a JSON list of dictionaries. Each dictionary must contain a single key-value pair, where the key is the specific term extracted, and the value is its assigned type.\n",
    "#         5. Only extract terms and types explicitly mentioned in the text. Do not invent terms or categories.\n",
    "\n",
    "#         ## Example\n",
    "#         **Input Document:**\n",
    "#         {json.dumps({\n",
    "#             \"id\": \"1183_0\",\n",
    "#             \"title\": \"Types of Environmental Material Temperatures\",\n",
    "#             \"text\": \"The temperature of various environmental materials is a crucial aspect of environmental monitoring. Specifically, temperatures of air, soil, and water are categorized under the broader classification of temperature of environmental material. The temperature of air is one such type, playing a significant role in weather patterns and climate conditions. Similarly, the temperature of soil is another important category, influencing plant growth and microbial activity. Lastly, the temperature of water, whether in rivers, lakes, or oceans, affects aquatic life and is a vital component in the Earth's climate system. Understanding these different temperatures is essential for assessing and mitigating the impact of environmental changes.\"\n",
    "#         })}\n",
    "\n",
    "#         **Correct Output:**\n",
    "        \n",
    "#         [\n",
    "#             {{\"temperature of air\": \"Temperature of Environmental Material\"}},\n",
    "#             {{\"temperature of soil\": \"Temperature of Environmental Material\"}},\n",
    "#             {{\"temperature of water\": \"Temperature of Environmental Material\"}}\n",
    "#         ]\n",
    "\n",
    "#         ## Your Task\n",
    "#         Process the following document and provide the output in the specified JSON format:\n",
    "\n",
    "#         **Input Document:**\n",
    "#         {doc}\n",
    "#         \"\"\"\n",
    "\n",
    "#         generation_config = {\"response_mime_type\": \"application/json\"}\n",
    "\n",
    "#         response = client.models.generate_content(\n",
    "#                 contents= prompt,\n",
    "#                 config=generation_config,\n",
    "#                 model=model\n",
    "#             )\n",
    "#         final_ans.append(response.text)\n",
    "#         if i%5==0:\n",
    "#             print(response.text)\n",
    "        \n",
    "        "
   ]
  },
  {
   "cell_type": "code",
   "execution_count": 41,
   "id": "8882f4aa",
   "metadata": {},
   "outputs": [
    {
     "data": {
      "text/plain": [
       "['[\\n    {\\n        \"pre-modifier\": \"modification\"\\n    },\\n    {\\n        \"post-modifier\": \"modification type\"\\n    },\\n    {\\n        \"indifferent\": \"modification type\"\\n    }\\n]',\n",
       " '[\\n    {\\n        \"preposition phrases\": \"MultiWordExpressions\"\\n    },\\n    {\\n        \"verb phrases\": \"MultiWordExpressions\"\\n    },\\n    {\\n        \"noun phrases\": \"MultiWordExpressions\"\\n    },\\n    {\\n        \"adjective phrases\": \"MultiWordExpressions\"\\n    }\\n]',\n",
       " '[\\n    {\\n        \"infinitive clause\": \"clausal argument\"\\n    },\\n    {\\n        \"prepositional interrogative clause\": \"clausal argument\"\\n    },\\n    {\\n        \"possessive infinitive clause\": \"clausal argument\"\\n    },\\n    {\\n        \"interrogative clause\": \"clausal argument\"\\n    },\\n    {\\n        \"subjunctive clause\": \"clausal argument\"\\n    },\\n    {\\n        \"sentential clause\": \"clausal argument\"\\n    },\\n    {\\n        \"prepositional gerund clause\": \"clausal argument\"\\n    },\\n    {\\n        \"interrogative infinitive clause\": \"clausal argument\"\\n    },\\n    {\\n        \"declarative clause\": \"clausal argument\"\\n    },\\n    {\\n        \"gerund clause\": \"clausal argument\"\\n    }\\n]',\n",
       " '[\\n    {\\n        \"yes\": \"negatives\"\\n    },\\n    {\\n        \"no\": \"negatives\"\\n    }\\n]',\n",
       " '[\\n    {\\n        \"commonly used\": \"frequency\"\\n    },\\n    {\\n        \"infrequently used\": \"frequency\"\\n    },\\n    {\\n        \"rarely used\": \"frequency\"\\n    }\\n]',\n",
       " '[\\n    {\\n        \"prefix\": \"affix\"\\n    },\\n    {\\n        \"suffix\": \"affix\"\\n    },\\n    {\\n        \"infix\": \"affix\"\\n    },\\n    {\\n        \"transfix\": \"affix\"\\n    },\\n    {\\n        \"simulfix\": \"affix\"\\n    },\\n    {\\n        \"zero morph\": \"affix\"\\n    }\\n]',\n",
       " '[\\n    {\\n        \"masculine\": \"types of genders\"\\n    },\\n    {\\n        \"feminine\": \"types of genders\"\\n    },\\n    {\\n        \"neuter\": \"types of genders\"\\n    },\\n    {\\n        \"common gender\": \"types of genders\"\\n    },\\n    {\\n        \"other gender\": \"types of genders\"\\n    }\\n]',\n",
       " '[\\n    {\\n        \"first person\": \"person\"\\n    },\\n    {\\n        \"second person\": \"person\"\\n    },\\n    {\\n        \"third person\": \"person\"\\n    }\\n]',\n",
       " '[\\n    {\\n        \"imperfective aspect\": \"aspect\"\\n    },\\n    {\\n        \"perfective aspect\": \"aspect\"\\n    },\\n    {\\n        \"inchoative\": \"aspect\"\\n    },\\n    {\\n        \"cessative\": \"aspect\"\\n    },\\n    {\\n        \"unaccomplished aspect\": \"aspect\"\\n    }\\n]',\n",
       " '[\\n    {\\n        \"affixes\": \"term elements\"\\n    },\\n    {\\n        \"prefixes\": \"term elements\"\\n    },\\n    {\\n        \"infixes\": \"term elements\"\\n    },\\n    {\\n        \"suffixes\": \"term elements\"\\n    },\\n    {\\n        \"syllables\": \"term elements\"\\n    },\\n    {\\n        \"words\": \"term elements\"\\n    },\\n    {\\n        \"radicals\": \"term elements\"\\n    },\\n    {\\n        \"bases\": \"term elements\"\\n    },\\n    {\\n        \"morphological elements\": \"term elements\"\\n    },\\n    {\\n        \"optional elements\": \"term elements\"\\n    }\\n]']"
      ]
     },
     "execution_count": 41,
     "metadata": {},
     "output_type": "execute_result"
    }
   ],
   "source": [
    "final_ans"
   ]
  },
  {
   "cell_type": "code",
   "execution_count": 42,
   "id": "a8a04b05",
   "metadata": {},
   "outputs": [
    {
     "data": {
      "text/plain": [
       "{'pre-modifier': ['modification'],\n",
       " 'post-modifier': ['modification type'],\n",
       " 'indifferent': ['modification type'],\n",
       " 'preposition phrases': ['MultiWordExpressions'],\n",
       " 'verb phrases': ['MultiWordExpressions'],\n",
       " 'noun phrases': ['MultiWordExpressions'],\n",
       " 'adjective phrases': ['MultiWordExpressions'],\n",
       " 'infinitive clause': ['clausal argument'],\n",
       " 'prepositional interrogative clause': ['clausal argument'],\n",
       " 'possessive infinitive clause': ['clausal argument'],\n",
       " 'interrogative clause': ['clausal argument'],\n",
       " 'subjunctive clause': ['clausal argument'],\n",
       " 'sentential clause': ['clausal argument'],\n",
       " 'prepositional gerund clause': ['clausal argument'],\n",
       " 'interrogative infinitive clause': ['clausal argument'],\n",
       " 'declarative clause': ['clausal argument'],\n",
       " 'gerund clause': ['clausal argument'],\n",
       " 'yes': ['negatives'],\n",
       " 'no': ['negatives'],\n",
       " 'commonly used': ['frequency'],\n",
       " 'infrequently used': ['frequency'],\n",
       " 'rarely used': ['frequency'],\n",
       " 'prefix': ['affix'],\n",
       " 'suffix': ['affix'],\n",
       " 'infix': ['affix'],\n",
       " 'transfix': ['affix'],\n",
       " 'simulfix': ['affix'],\n",
       " 'zero morph': ['affix'],\n",
       " 'masculine': ['types of genders'],\n",
       " 'feminine': ['types of genders'],\n",
       " 'neuter': ['types of genders'],\n",
       " 'common gender': ['types of genders'],\n",
       " 'other gender': ['types of genders'],\n",
       " 'first person': ['person'],\n",
       " 'second person': ['person'],\n",
       " 'third person': ['person'],\n",
       " 'imperfective aspect': ['aspect'],\n",
       " 'perfective aspect': ['aspect'],\n",
       " 'inchoative': ['aspect'],\n",
       " 'cessative': ['aspect'],\n",
       " 'unaccomplished aspect': ['aspect'],\n",
       " 'affixes': ['term elements'],\n",
       " 'prefixes': ['term elements'],\n",
       " 'infixes': ['term elements'],\n",
       " 'suffixes': ['term elements'],\n",
       " 'syllables': ['term elements'],\n",
       " 'words': ['term elements'],\n",
       " 'radicals': ['term elements'],\n",
       " 'bases': ['term elements'],\n",
       " 'morphological elements': ['term elements'],\n",
       " 'optional elements': ['term elements']}"
      ]
     },
     "execution_count": 42,
     "metadata": {},
     "output_type": "execute_result"
    }
   ],
   "source": [
    "term2docs_mapping_test = {}\n",
    "term2types_mapping_test = {}\n",
    "for ans in final_ans:\n",
    "    ans_dict = json.loads(ans)\n",
    "    for term_type in ans_dict:\n",
    "        for term, type in term_type.items():\n",
    "            if term not in term2types_mapping_test.keys():\n",
    "                term2types_mapping_test[term]=[type]\n",
    "            else:\n",
    "                term2types_mapping_test[term].append(type)\n",
    "term2types_mapping_test\n"
   ]
  },
  {
   "cell_type": "code",
   "execution_count": 43,
   "id": "d5aa0eb2",
   "metadata": {},
   "outputs": [
    {
     "name": "stdout",
     "output_type": "stream",
     "text": [
      "Clusters saved to final_clusters.json ✅\n"
     ]
    }
   ],
   "source": [
    "import json\n",
    "\n",
    "# Save final_clusters_list to JSON file\n",
    "with open(\"text_to_ontol_keyword_LLM_scholarly.json\", \"w\", encoding=\"utf-8\") as f:\n",
    "    json.dump(term2types_mapping_test, f, indent=2, ensure_ascii=False)\n",
    "\n",
    "print(\"Clusters saved to final_clusters.json ✅\")"
   ]
  },
  {
   "cell_type": "code",
   "execution_count": 44,
   "id": "6c27a9d8",
   "metadata": {},
   "outputs": [
    {
     "data": {
      "text/plain": [
       "10"
      ]
     },
     "execution_count": 44,
     "metadata": {},
     "output_type": "execute_result"
    }
   ],
   "source": [
    "len(test_data)"
   ]
  },
  {
   "cell_type": "code",
   "execution_count": 45,
   "id": "894f681d",
   "metadata": {},
   "outputs": [],
   "source": [
    "term2docs_mapping_test = {}\n",
    "term2types_mapping_test = {}\n",
    "for ans in final_ans:\n",
    "    ans_dict = json.loads(ans)\n",
    "    for term_type in ans_dict:\n",
    "        for term, type in term_type.items():\n",
    "            term2docs_mapping_test[term]=[]\n",
    "            for doc in test_data:\n",
    "                if term in doc['title'] or term in doc['text']:\n",
    "                    term2docs_mapping_test[term].append(doc['id'])\n"
   ]
  },
  {
   "cell_type": "code",
   "execution_count": 46,
   "id": "38e60598",
   "metadata": {},
   "outputs": [
    {
     "data": {
      "text/plain": [
       "{'pre-modifier': ['35_0'],\n",
       " 'post-modifier': ['35_0'],\n",
       " 'indifferent': ['35_0'],\n",
       " 'preposition phrases': ['33_0'],\n",
       " 'verb phrases': ['33_0'],\n",
       " 'noun phrases': ['33_0'],\n",
       " 'adjective phrases': ['33_0'],\n",
       " 'infinitive clause': ['22_0'],\n",
       " 'prepositional interrogative clause': ['22_0'],\n",
       " 'possessive infinitive clause': ['22_0'],\n",
       " 'interrogative clause': ['22_0'],\n",
       " 'subjunctive clause': ['22_0'],\n",
       " 'sentential clause': ['22_0'],\n",
       " 'prepositional gerund clause': ['22_0'],\n",
       " 'interrogative infinitive clause': ['22_0'],\n",
       " 'declarative clause': ['22_0'],\n",
       " 'gerund clause': ['22_0'],\n",
       " 'yes': ['9_0'],\n",
       " 'no': ['35_0', '33_0', '22_0', '9_0', '25_0', '32_0', '20_0', '17_0'],\n",
       " 'commonly used': ['19_0'],\n",
       " 'infrequently used': ['19_0'],\n",
       " 'rarely used': ['19_0'],\n",
       " 'prefix': ['25_0', '17_0'],\n",
       " 'suffix': ['25_0', '17_0'],\n",
       " 'infix': ['25_0', '17_0'],\n",
       " 'transfix': ['25_0'],\n",
       " 'simulfix': ['25_0'],\n",
       " 'zero morph': ['25_0'],\n",
       " 'masculine': ['32_0'],\n",
       " 'feminine': ['32_0'],\n",
       " 'neuter': ['32_0'],\n",
       " 'common gender': ['32_0'],\n",
       " 'other gender': ['32_0'],\n",
       " 'first person': ['28_0'],\n",
       " 'second person': ['28_0'],\n",
       " 'third person': ['28_0'],\n",
       " 'imperfective aspect': ['20_0'],\n",
       " 'perfective aspect': ['20_0'],\n",
       " 'inchoative': ['20_0'],\n",
       " 'cessative': ['20_0'],\n",
       " 'unaccomplished aspect': ['20_0'],\n",
       " 'affixes': ['25_0', '17_0'],\n",
       " 'prefixes': ['25_0', '17_0'],\n",
       " 'infixes': ['25_0', '17_0'],\n",
       " 'suffixes': ['25_0', '17_0'],\n",
       " 'syllables': ['17_0'],\n",
       " 'words': ['35_0', '9_0', '17_0'],\n",
       " 'radicals': ['17_0'],\n",
       " 'bases': ['17_0'],\n",
       " 'morphological elements': ['17_0'],\n",
       " 'optional elements': ['17_0']}"
      ]
     },
     "execution_count": 46,
     "metadata": {},
     "output_type": "execute_result"
    }
   ],
   "source": [
    "term2docs_mapping_test"
   ]
  },
  {
   "cell_type": "code",
   "execution_count": 47,
   "id": "bebb11b3",
   "metadata": {},
   "outputs": [
    {
     "name": "stdout",
     "output_type": "stream",
     "text": [
      "Clusters saved to final_clusters.json ✅\n"
     ]
    }
   ],
   "source": [
    "import json\n",
    "\n",
    "# Save final_clusters_list to JSON file\n",
    "with open(\"text_to_ontol_keyword_LLM_scholarly_term_extraction.json\", \"w\", encoding=\"utf-8\") as f:\n",
    "    json.dump(term2docs_mapping_test, f, indent=2, ensure_ascii=False)\n",
    "\n",
    "print(\"Clusters saved to final_clusters.json ✅\")"
   ]
  },
  {
   "cell_type": "code",
   "execution_count": 48,
   "id": "1ae3e424",
   "metadata": {},
   "outputs": [],
   "source": [
    "import json\n",
    "def load_json(data_path):\n",
    "    with open(data_path, \"r\") as file_1:\n",
    "        pred_data= json.load(file_1)\n",
    "    return pred_data\n",
    "\n",
    "pred_data = load_json(\"text_to_ontol_keyword_LLM_scholarly.json\")"
   ]
  },
  {
   "cell_type": "code",
   "execution_count": 49,
   "id": "f32f5022",
   "metadata": {},
   "outputs": [],
   "source": [
    "import json\n",
    "\n",
    "# Assuming pred_data is your dictionary of {term: [type1, type2, ...]}\n",
    "# Here's how to write it properly:\n",
    "with open(\"scholarly/test/1st_method_pro_gemini_terms.txt\", \"w\", encoding=\"utf-8\") as term_file:\n",
    "    for key in pred_data.keys():\n",
    "        term_file.write(f\"{key}\\n\")\n",
    "\n",
    "with open(\"scholarly/test/1st_method_pro_flash_types.txt\", \"w\", encoding=\"utf-8\") as type_file:\n",
    "    for value in pred_data.values():\n",
    "        # If multiple types are present, join them into one line as JSON list\n",
    "        type_file.write(json.dumps(value) + \"\\n\")\n"
   ]
  },
  {
   "cell_type": "code",
   "execution_count": 51,
   "id": "2385578d",
   "metadata": {},
   "outputs": [],
   "source": [
    "# Write keys (terms) to terms.txt\n",
    "with open(\"scholarly/test/1st_method_pro_gemini_terms.txt\", \"w\", encoding=\"utf-8\") as term_file:\n",
    "    for key in pred_data.keys():\n",
    "        term_file.write(f\"{key}\\n\")\n",
    "\n",
    "# Track and write only unique types (no duplicates)\n",
    "written_types = set()\n",
    "\n",
    "with open(\"scholarly/test/1st_method_pro_types.txt\", \"w\", encoding=\"utf-8\") as type_file:\n",
    "    for value_list in pred_data.values():\n",
    "        for val in value_list:\n",
    "            if val not in written_types:\n",
    "                type_file.write(f\"{val}\\n\")\n",
    "                written_types.add(val)\n"
   ]
  },
  {
   "cell_type": "code",
   "execution_count": null,
   "id": "a343fc4e",
   "metadata": {},
   "outputs": [],
   "source": []
  }
 ],
 "metadata": {
  "kernelspec": {
   "display_name": "Python 3",
   "language": "python",
   "name": "python3"
  },
  "language_info": {
   "codemirror_mode": {
    "name": "ipython",
    "version": 3
   },
   "file_extension": ".py",
   "mimetype": "text/x-python",
   "name": "python",
   "nbconvert_exporter": "python",
   "pygments_lexer": "ipython3",
   "version": "3.11.8"
  }
 },
 "nbformat": 4,
 "nbformat_minor": 5
}
