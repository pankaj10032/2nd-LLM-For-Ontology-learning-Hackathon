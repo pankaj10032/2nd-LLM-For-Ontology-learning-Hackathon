{
 "cells": [
  {
   "cell_type": "code",
   "execution_count": 1,
   "id": "5fa75311",
   "metadata": {},
   "outputs": [],
   "source": [
    "import json\n",
    "def load_json(data_path):\n",
    "    with open(data_path, \"r\", encoding=\"utf-8\") as file_1:\n",
    "        data = json.load(file_1)\n",
    "    return data"
   ]
  },
  {
   "cell_type": "code",
   "execution_count": 2,
   "id": "b85425e4",
   "metadata": {},
   "outputs": [],
   "source": [
    "data = load_json(\"PO/train/po_train_pairs.json\")"
   ]
  },
  {
   "cell_type": "code",
   "execution_count": null,
   "id": "64e3a8ac",
   "metadata": {},
   "outputs": [],
   "source": [
    "data"
   ]
  },
  {
   "cell_type": "code",
   "execution_count": 8,
   "id": "f768d945",
   "metadata": {},
   "outputs": [
    {
     "name": "stdout",
     "output_type": "stream",
     "text": [
      "2005\n"
     ]
    }
   ],
   "source": [
    "edges = []\n",
    "for data_1 in data:\n",
    "    edges.append((data_1['parent'], data_1['child']))\n",
    "print(len(edges))"
   ]
  },
  {
   "cell_type": "code",
   "execution_count": 6,
   "id": "2f715b5f",
   "metadata": {},
   "outputs": [],
   "source": [
    "# import matplotlib.pyplot as plt\n",
    "# import networkx as nx\n",
    "\n",
    "# # Define the parent-child relationships\n",
    "# edges = [\n",
    "#     (\"leaf lamina vein\", \"primary leaf vein\"),\n",
    "#     (\"whole plant\", \"thallus\"),\n",
    "#     (\"plant organ\", \"coleorhiza\"),\n",
    "#     (\"native plant cell\", \"brachycyte\"),\n",
    "#     (\"inflorescence\", \"compound drepanium inflorescence\"),\n",
    "#     (\"lamina\", \"petiole lamina\"),\n",
    "#     (\"native plant cell\", \"primary parietal cell\"),\n",
    "#     (\"leaf epidermis\", \"cotyledon epidermis\"),\n",
    "#     (\"gametophyte development stage\", \"megagametophyte development stage\"),\n",
    "#     (\"arilloid\", \"caruncle\"),\n",
    "#     (\"guard cell\", \"phyllome guard cell\"),\n",
    "#     (\"axillary hair terminal cell\", \"???\")  # Replace ??? if known\n",
    "# ]\n",
    "\n",
    "# # Create a directed graph\n",
    "# G = nx.DiGraph()\n",
    "# G.add_edges_from(edges)\n",
    "\n",
    "# # Draw the graph\n",
    "# plt.figure(figsize=(14, 8))\n",
    "# pos = nx.spring_layout(G, k=0.5, iterations=50)  # You can also try shell_layout or planar_layout\n",
    "\n",
    "# nx.draw(G, pos, with_labels=True, arrows=True, node_color='lightgreen', node_size=2000, \n",
    "#         arrowstyle='-|>', arrowsize=20, font_size=10, font_weight='bold', edge_color='gray')\n",
    "\n",
    "# plt.title(\"Parent → Child Term Typing Graph\", fontsize=14)\n",
    "# plt.axis('off')\n",
    "# plt.tight_layout()\n",
    "# plt.show()\n"
   ]
  }
 ],
 "metadata": {
  "kernelspec": {
   "display_name": "Python 3",
   "language": "python",
   "name": "python3"
  },
  "language_info": {
   "codemirror_mode": {
    "name": "ipython",
    "version": 3
   },
   "file_extension": ".py",
   "mimetype": "text/x-python",
   "name": "python",
   "nbconvert_exporter": "python",
   "pygments_lexer": "ipython3",
   "version": "3.11.8"
  }
 },
 "nbformat": 4,
 "nbformat_minor": 5
}
